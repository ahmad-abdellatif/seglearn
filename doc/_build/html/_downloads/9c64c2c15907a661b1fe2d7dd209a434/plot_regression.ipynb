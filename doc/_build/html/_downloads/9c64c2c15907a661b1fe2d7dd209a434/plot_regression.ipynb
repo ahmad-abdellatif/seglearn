{
  "cells": [
    {
      "cell_type": "code",
      "execution_count": null,
      "metadata": {
        "collapsed": false
      },
      "outputs": [],
      "source": [
        "%matplotlib inline"
      ]
    },
    {
      "cell_type": "markdown",
      "metadata": {},
      "source": [
        "\n# Continuous Target and Time Series Regression\n\n\nIn this example, we use the pipeline to learn a continuous time series target with a regressor\n\n\n"
      ]
    },
    {
      "cell_type": "code",
      "execution_count": null,
      "metadata": {
        "collapsed": false
      },
      "outputs": [],
      "source": [
        "# Author: David Burns\n# License: BSD\n\n\nimport matplotlib.pyplot as plt\nimport numpy as np\nimport pandas as pd\nfrom sklearn.linear_model import LinearRegression\nfrom sklearn.model_selection import cross_validate\n\nfrom seglearn.pipe import Pype\nfrom seglearn.split import temporal_split, TemporalKFold\nfrom seglearn.transform import FeatureRep, Segment, last\n\n# for a single time series, we need to make it a list\nX = [np.arange(10000) / 100.]\ny = [np.sin(X[0]) * X[0] * 3 + X[0] * X[0]]\n\n# split the data along the time axis (our only option since we have only 1 time series)\nX_train, X_test, y_train, y_test = temporal_split(X, y)\n\n# setting y_func = last, selects the last value from each y segment as the target\n# other options include transform.middle, or you can make your own function\n# see the API documentation for further details\n\npipe = Pype([('seg', Segment(width=200, overlap=0.5, y_func=last)),\n             ('features', FeatureRep()),\n             ('lin', LinearRegression())])\n\n# fit and score\npipe.fit(X_train, y_train)\nscore = pipe.score(X_test, y_test)\n\nprint(\"N series in train: \", len(X_train))\nprint(\"N series in test: \", len(X_test))\nprint(\"N segments in train: \", pipe.N_train)\nprint(\"N segments in test: \", pipe.N_test)\nprint(\"Score: \", score)\n\n# generate some predictions\nytr, ytr_p = pipe.transform_predict(X_train, y_train)  # training predictions\nyte, yte_p = pipe.transform_predict(X_test, y_test)  # test predictions\nxtr = np.arange(len(ytr))  # segment number\nxte = np.arange(len(yte)) + len(xtr)\n\n# plot the amazing results\nplt.plot(xtr, ytr, '.', label=\"training\")\nplt.plot(xte, yte, '.', label=\"actual\")\nplt.plot(xte, yte_p, label=\"predicted\")\nplt.xlabel(\"Segment Number\")\nplt.ylabel(\"Target\")\nplt.legend()\nplt.show()\n\n# # now try a cross validation\n# X = [np.arange(4000) / 100.]\n# y = [np.sin(X[0])]\n#\n# tkf = TemporalKFold()\n# X, y, cv = tkf.split(X, y)\n# cv_scores = cross_validate(pipe, X, y, cv=cv, return_train_score=True)\n# print(\"CV Scores: \", pd.DataFrame(cv_scores))"
      ]
    }
  ],
  "metadata": {
    "kernelspec": {
      "display_name": "Python 3",
      "language": "python",
      "name": "python3"
    },
    "language_info": {
      "codemirror_mode": {
        "name": "ipython",
        "version": 3
      },
      "file_extension": ".py",
      "mimetype": "text/x-python",
      "name": "python",
      "nbconvert_exporter": "python",
      "pygments_lexer": "ipython3",
      "version": "3.6.9"
    }
  },
  "nbformat": 4,
  "nbformat_minor": 0
}