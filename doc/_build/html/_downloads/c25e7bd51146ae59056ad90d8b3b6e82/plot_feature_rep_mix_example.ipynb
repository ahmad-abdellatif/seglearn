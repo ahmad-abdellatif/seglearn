{
  "cells": [
    {
      "cell_type": "code",
      "execution_count": null,
      "metadata": {
        "collapsed": false
      },
      "outputs": [],
      "source": [
        "%matplotlib inline"
      ]
    },
    {
      "cell_type": "markdown",
      "metadata": {},
      "source": [
        "\n# Simple FeatureRepMix Example\n\n\nThis example demonstrates how to use the FeatureRepMix on segmented data.\n\nAlthough not shown here, FeatureRepMix can be used with Pype in place of FeatureRep.\nSee API documentation for an example.\n\n"
      ]
    },
    {
      "cell_type": "code",
      "execution_count": null,
      "metadata": {
        "collapsed": false
      },
      "outputs": [],
      "source": [
        "# Author: Matthias Gazzari\n# License: BSD\n\nfrom seglearn.transform import Segment, FeatureRep, FeatureRepMix\nfrom seglearn.feature_functions import minimum, maximum\nfrom seglearn.base import TS_Data\n\nimport numpy as np\nimport pandas as pd\n\n# Single multivariate time series with 3 samples of 4 variables\nX = [np.array([[0, 1, 2, 3], [4, 5, 6, 7], [8, 9, 10, 11]])]\n# Time series target\ny = [np.array([True, False, False])]\n\nsegment = Segment(width=3, overlap=1)\nX, y, _ = segment.fit_transform(X, y)\n\nprint('After segmentation:')\nprint(\"X:\", X)\nprint(\"y: \", y)\n\nunion = FeatureRepMix([\n    ('a', FeatureRep(features={'min': minimum}), 0),\n    ('b', FeatureRep(features={'min': minimum}), 1),\n    ('c', FeatureRep(features={'min': minimum}), [2, 3]),\n    ('d', FeatureRep(features={'max': maximum}), slice(0, 2)),\n    ('e', FeatureRep(features={'max': maximum}), [False, False, True, True]),\n])\n\nX = union.fit_transform(X, y)\nprint('After column-wise feature extraction:')\ndf = pd.DataFrame(data=X, columns=union.f_labels)\nprint(df)"
      ]
    }
  ],
  "metadata": {
    "kernelspec": {
      "display_name": "Python 3",
      "language": "python",
      "name": "python3"
    },
    "language_info": {
      "codemirror_mode": {
        "name": "ipython",
        "version": 3
      },
      "file_extension": ".py",
      "mimetype": "text/x-python",
      "name": "python",
      "nbconvert_exporter": "python",
      "pygments_lexer": "ipython3",
      "version": "3.6.9"
    }
  },
  "nbformat": 4,
  "nbformat_minor": 0
}