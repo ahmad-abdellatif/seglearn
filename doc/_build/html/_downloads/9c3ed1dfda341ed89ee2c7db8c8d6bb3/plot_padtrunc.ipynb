{
  "cells": [
    {
      "cell_type": "code",
      "execution_count": null,
      "metadata": {
        "collapsed": false
      },
      "outputs": [],
      "source": [
        "%matplotlib inline"
      ]
    },
    {
      "cell_type": "markdown",
      "metadata": {},
      "source": [
        "\n# Pipeline using Time Series Padding and Truncation\n\n\nThis is a basic example using the pipeline to learn a feature representation of the time series data\nusing padding and truncation instead of sliding window segmentation.\n\n\n"
      ]
    },
    {
      "cell_type": "code",
      "execution_count": null,
      "metadata": {
        "collapsed": false
      },
      "outputs": [],
      "source": [
        "# Author: David Burns\n# License: BSD\n\n\nimport matplotlib.image as mpimg\nimport matplotlib.pyplot as plt\nfrom sklearn.model_selection import train_test_split\nfrom sklearn.preprocessing import StandardScaler\nfrom sklearn.svm import LinearSVC\n\nfrom seglearn.datasets import load_watch\nfrom seglearn.pipe import Pype\nfrom seglearn.transform import FeatureRep, PadTrunc\n\n# load the data\ndata = load_watch()\nX = data['X']\ny = data['y']\n\n# create a feature representation pipeline with PadTrunc segmentation\n# the time series are between 20-40 seconds\n# this truncates them all to the first 5 seconds (sampling rate is 50 Hz)\n\npipe = Pype([('trunc', PadTrunc(width=250)),\n             ('features', FeatureRep()),\n             ('scaler', StandardScaler()),\n             ('svc', LinearSVC())])\n\n# split the data\nX_train, X_test, y_train, y_test = train_test_split(X, y, test_size=0.25, shuffle=True,\n                                                    random_state=42)\n\npipe.fit(X_train, y_train)\nscore = pipe.score(X_test, y_test)\n\nprint(\"N series in train: \", len(X_train))\nprint(\"N series in test: \", len(X_test))\nprint(\"N segments in train: \", pipe.N_train)\nprint(\"N segments in test: \", pipe.N_test)\nprint(\"Accuracy score: \", score)\n\nimg = mpimg.imread('trunk.jpg')\nplt.imshow(img)"
      ]
    }
  ],
  "metadata": {
    "kernelspec": {
      "display_name": "Python 3",
      "language": "python",
      "name": "python3"
    },
    "language_info": {
      "codemirror_mode": {
        "name": "ipython",
        "version": 3
      },
      "file_extension": ".py",
      "mimetype": "text/x-python",
      "name": "python",
      "nbconvert_exporter": "python",
      "pygments_lexer": "ipython3",
      "version": "3.6.9"
    }
  },
  "nbformat": 4,
  "nbformat_minor": 0
}