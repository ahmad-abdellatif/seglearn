{
  "cells": [
    {
      "cell_type": "code",
      "execution_count": null,
      "metadata": {
        "collapsed": false
      },
      "outputs": [],
      "source": [
        "%matplotlib inline"
      ]
    },
    {
      "cell_type": "markdown",
      "metadata": {},
      "source": [
        "\n# Hyperparameter Selection 2\n\n\nThis example demonstrates how to do model selection in a pipeline where segments are learned directly by a neural network\n\n"
      ]
    },
    {
      "cell_type": "code",
      "execution_count": null,
      "metadata": {
        "collapsed": false
      },
      "outputs": [],
      "source": [
        "# Author: David Burns\n# License: BSD\n\nimport matplotlib.pyplot as plt\nfrom tensorflow.python.keras.layers import Dense, LSTM, Conv1D\nfrom tensorflow.python.keras.models import Sequential\nfrom tensorflow.python.keras.wrappers.scikit_learn import KerasClassifier\n\nfrom sklearn.model_selection import GridSearchCV\n\nfrom seglearn.datasets import load_watch\nfrom seglearn.pipe import Pype\nfrom seglearn.split import TemporalKFold\nfrom seglearn.transform import Segment\n\n\ndef crnn_model(width=100, n_vars=6, n_classes=7, conv_kernel_size=5,\n               conv_filters=2, lstm_units=2):\n    # create a crnn model with keras with one cnn layers, and one rnn layer\n    input_shape = (width, n_vars)\n    model = Sequential()\n    model.add(Conv1D(filters=conv_filters, kernel_size=conv_kernel_size,\n                     padding='valid', activation='relu', input_shape=input_shape))\n    model.add(LSTM(units=lstm_units, dropout=0.1, recurrent_dropout=0.1))\n    model.add(Dense(n_classes, activation=\"softmax\"))\n\n    model.compile(loss='categorical_crossentropy', optimizer='adam', metrics=['accuracy'])\n\n    return model\n\n\n# load the data\ndata = load_watch()\nX = data['X']\ny = data['y']\n\n# temporal splitting of data\nsplitter = TemporalKFold(n_splits=3)\nXs, ys, cv = splitter.split(X, y)\n\n# create a segment learning pipeline\npipe = Pype([('seg', Segment(order='C')),\n             ('crnn', KerasClassifier(build_fn=crnn_model, epochs=1, batch_size=256, verbose=0))])\n\n# create a parameter dictionary using the sklearn API\n#\n# you can also set a parameter to be always equal to another parameter, by setting its value to\n# parameter name to track (this is an extension from sklearn)\n#\n# note that if you want to set a parameter to a single value, it will still need to be as a list\n\npar_grid = {'seg__width': [100, 200, 400],\n            'seg__overlap': [0.],\n            'crnn__width': ['seg__width']}\n\nclf = GridSearchCV(pipe, par_grid, cv=cv, verbose=2)\nclf.fit(Xs, ys)\nscores = clf.cv_results_['mean_test_score']\nstds = clf.cv_results_['std_test_score']\n\nplt.plot(par_grid['seg__width'], scores, '-o')\nplt.title(\"Grid Search Scores\")\nplt.xlabel(\"Width [s]\")\nplt.ylabel(\"CV Average Score\")\nplt.fill_between(par_grid['seg__width'], scores - stds, scores + stds, alpha=0.2, color='navy')\nplt.show()"
      ]
    }
  ],
  "metadata": {
    "kernelspec": {
      "display_name": "Python 3",
      "language": "python",
      "name": "python3"
    },
    "language_info": {
      "codemirror_mode": {
        "name": "ipython",
        "version": 3
      },
      "file_extension": ".py",
      "mimetype": "text/x-python",
      "name": "python",
      "nbconvert_exporter": "python",
      "pygments_lexer": "ipython3",
      "version": "3.6.9"
    }
  },
  "nbformat": 4,
  "nbformat_minor": 0
}