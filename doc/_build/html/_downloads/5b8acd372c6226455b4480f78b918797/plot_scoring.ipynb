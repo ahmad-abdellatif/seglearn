{
  "cells": [
    {
      "cell_type": "code",
      "execution_count": null,
      "metadata": {
        "collapsed": false
      },
      "outputs": [],
      "source": [
        "%matplotlib inline"
      ]
    },
    {
      "cell_type": "markdown",
      "metadata": {},
      "source": [
        "\n# Scoring Time Series Estimators\n\n\nThis examples demonstrates some of the caveats / issues when trying to\ncalculate performance scores for time series estimators.\n\nThis pipeline has been designed to evaluate performance using\nsegments (not series') as instances of the data.\n\n\n"
      ]
    },
    {
      "cell_type": "code",
      "execution_count": null,
      "metadata": {
        "collapsed": false
      },
      "outputs": [],
      "source": [
        "# Author: David Burns\n# License: BSD\n\n\nimport itertools\n\nimport matplotlib.pyplot as plt\nimport numpy as np\nimport pandas as pd\nfrom sklearn.ensemble import RandomForestClassifier\nfrom sklearn.metrics import f1_score, confusion_matrix, make_scorer\nfrom sklearn.model_selection import train_test_split, cross_validate\nfrom sklearn.pipeline import Pipeline\nfrom sklearn.preprocessing import StandardScaler\n\nfrom seglearn.datasets import load_watch\nfrom seglearn.pipe import Pype\nfrom seglearn.transform import FeatureRep, Segment"
      ]
    },
    {
      "cell_type": "markdown",
      "metadata": {},
      "source": [
        "CONFUSION PLOT\n#############################################\n\n"
      ]
    },
    {
      "cell_type": "code",
      "execution_count": null,
      "metadata": {
        "collapsed": false
      },
      "outputs": [],
      "source": [
        "def plot_confusion_matrix(cm, classes,\n                          normalize=True,\n                          cmap=plt.cm.Blues):\n    \"\"\" plots confusion matrix \"\"\"\n    if normalize:\n        cm = cm.astype('float') / cm.sum(axis=1)[:, np.newaxis]\n    plt.imshow(cm, interpolation='nearest', cmap=cmap)\n    plt.colorbar()\n    tick_marks = np.arange(len(classes))\n    plt.xticks(tick_marks, classes, rotation=45)\n    plt.yticks(tick_marks, classes)\n    fmt = '.2f' if normalize else 'd'\n    thresh = cm.max() / 2.\n    for i, j in itertools.product(range(cm.shape[0]), range(cm.shape[1])):\n        plt.text(j, i, format(cm[i, j], fmt),\n                 horizontalalignment=\"center\",\n                 color=\"white\" if cm[i, j] > thresh else \"black\")\n\n    plt.ylabel('True label')\n    plt.xlabel('Predicted label')\n    plt.tight_layout()"
      ]
    },
    {
      "cell_type": "markdown",
      "metadata": {},
      "source": [
        "SETUP\n#############################################\n\n"
      ]
    },
    {
      "cell_type": "code",
      "execution_count": null,
      "metadata": {
        "collapsed": false
      },
      "outputs": [],
      "source": [
        "# load the data\ndata = load_watch()\nX = data['X']\ny = data['y']\n\n# create a feature representation pipeline\nsteps = [('seg', Segment()),\n         ('features', FeatureRep()),\n         ('scaler', StandardScaler()),\n         ('rf', RandomForestClassifier(n_estimators=20))]\n\npipe = Pype(steps)\n\n# split the data\nX_train, X_test, y_train, y_test = train_test_split(X, y, test_size=0.25, random_state=42)"
      ]
    },
    {
      "cell_type": "markdown",
      "metadata": {},
      "source": [
        "OPTION 1: Use the score SegPipe score method\n#############################################\n\n"
      ]
    },
    {
      "cell_type": "code",
      "execution_count": null,
      "metadata": {
        "collapsed": false
      },
      "outputs": [],
      "source": [
        "pipe.fit(X_train, y_train)\nscore = pipe.score(X_test, y_test)\nprint(\"Accuracy score: \", score)"
      ]
    },
    {
      "cell_type": "markdown",
      "metadata": {},
      "source": [
        "OPTION 2: generate true and predicted target values for the segments\n#####################################################################\n\n"
      ]
    },
    {
      "cell_type": "code",
      "execution_count": null,
      "metadata": {
        "collapsed": false
      },
      "outputs": [],
      "source": [
        "y_true, y_pred = pipe.transform_predict(X_test, y_test)\n# use any of the sklearn scorers\nf1_macro = f1_score(y_true, y_pred, average='macro')\nprint(\"F1 score: \", f1_macro)\n\ncm = confusion_matrix(y_true, y_pred)\nplot_confusion_matrix(cm, data['y_labels'])"
      ]
    },
    {
      "cell_type": "markdown",
      "metadata": {},
      "source": [
        "OPTION 3: scoring during model selection\n#########################################\n\n"
      ]
    },
    {
      "cell_type": "code",
      "execution_count": null,
      "metadata": {
        "collapsed": false
      },
      "outputs": [],
      "source": [
        "# model selection using the built-in score method for the final estimator\ncv_scores = cross_validate(pipe, X, y, cv=4, return_train_score=True)\nprint(\"CV Scores: \", pd.DataFrame(cv_scores))\n\n# model selection with scoring functions / dictionaries\n#\n# unfortunately, this is not possible withing the current framework due to how\n# scoring is implemented within the model_selection functions / classes of sklearn\n# running the code below will cause an error, because the model_selection\n# functions / classes do not have access to y_true for the segments\n#\n# >>> scoring = ['accuracy','precision_macro','recall_macro','f1_macro']\n# >>> cv_scores = cross_validate(pipe, X, y, cv = 4, return_train_score=True, scoring=scoring)\n#\n# workarounds for this issue are outlined below"
      ]
    },
    {
      "cell_type": "markdown",
      "metadata": {},
      "source": [
        "SCORING WORKAROUND 1: USE ANOTHER SCORER FUNCTION\n##################################################\n\n"
      ]
    },
    {
      "cell_type": "code",
      "execution_count": null,
      "metadata": {
        "collapsed": false
      },
      "outputs": [],
      "source": [
        "# ``SegPipe`` can be initialized with a scorer callable made with sklearn.metrics.make_scorer\n# this can be used to cross_validate or grid search with any 1 score\n\nscorer = make_scorer(f1_score, average='macro')\npipe = Pype(steps, scorer=scorer)\ncv_scores = cross_validate(pipe, X, y, cv=4, return_train_score=True)\nprint(\"CV F1 Scores: \", pd.DataFrame(cv_scores))"
      ]
    },
    {
      "cell_type": "markdown",
      "metadata": {},
      "source": [
        "SCORING WORKAROUND 2: WORK OUTSIDE THE PIPELINE\n#################################################\n\n"
      ]
    },
    {
      "cell_type": "code",
      "execution_count": null,
      "metadata": {
        "collapsed": false
      },
      "outputs": [],
      "source": [
        "# If you want to have multiple score computed, the only way is as follows\n#\n# First transform the time series data into segments and then use an sklearn Pipeline\n#\n# The disadvantage of this is that the parameters of the segmentation cannot be\n# optimized with this approach\n\nsegmenter = Segment()\nX_seg, y_seg, _ = segmenter.fit_transform(X, y)\n\nclf = Pipeline([('features', FeatureRep()),\n                ('scaler', StandardScaler()),\n                ('rf', RandomForestClassifier())])\n\nscoring = ['accuracy', 'precision_macro', 'recall_macro', 'f1_macro']\ncv_scores = cross_validate(clf, X_seg, y_seg,\n                           cv=4, return_train_score=False, scoring=scoring)\nprint(\"CV Scores (workaround): \", pd.DataFrame(cv_scores))"
      ]
    }
  ],
  "metadata": {
    "kernelspec": {
      "display_name": "Python 3",
      "language": "python",
      "name": "python3"
    },
    "language_info": {
      "codemirror_mode": {
        "name": "ipython",
        "version": 3
      },
      "file_extension": ".py",
      "mimetype": "text/x-python",
      "name": "python",
      "nbconvert_exporter": "python",
      "pygments_lexer": "ipython3",
      "version": "3.6.9"
    }
  },
  "nbformat": 4,
  "nbformat_minor": 0
}