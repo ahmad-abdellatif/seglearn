{
  "cells": [
    {
      "cell_type": "code",
      "execution_count": null,
      "metadata": {
        "collapsed": false
      },
      "outputs": [],
      "source": [
        "%matplotlib inline"
      ]
    },
    {
      "cell_type": "markdown",
      "metadata": {},
      "source": [
        "\n# Plotting Neural Network Training Curves\n\n\nThis is a basic example using a convolutional recurrent neural network to learn segments directly from time series data\n\n\n"
      ]
    },
    {
      "cell_type": "code",
      "execution_count": null,
      "metadata": {
        "collapsed": false
      },
      "outputs": [],
      "source": [
        "# Author: David Burns\n# License: BSD\n\nimport matplotlib.pyplot as plt\nimport numpy as np\nfrom tensorflow.python.keras.layers import Dense, LSTM, Conv1D\nfrom tensorflow.python.keras.models import Sequential\nfrom tensorflow.python.keras.wrappers.scikit_learn import KerasClassifier\nfrom pandas import DataFrame\nfrom sklearn.model_selection import train_test_split\n\nfrom seglearn.datasets import load_watch\nfrom seglearn.pipe import Pype\nfrom seglearn.transform import Segment"
      ]
    },
    {
      "cell_type": "markdown",
      "metadata": {},
      "source": [
        "Simple NN Model\n#############################################\n\n"
      ]
    },
    {
      "cell_type": "code",
      "execution_count": null,
      "metadata": {
        "collapsed": false
      },
      "outputs": [],
      "source": [
        "def crnn_model(width=100, n_vars=6, n_classes=7, conv_kernel_size=5,\n               conv_filters=3, lstm_units=3):\n    input_shape = (width, n_vars)\n    model = Sequential()\n    model.add(Conv1D(filters=conv_filters, kernel_size=conv_kernel_size,\n                     padding='valid', activation='relu', input_shape=input_shape))\n    model.add(LSTM(units=lstm_units, dropout=0.1, recurrent_dropout=0.1))\n    model.add(Dense(n_classes, activation=\"softmax\"))\n\n    model.compile(loss='categorical_crossentropy', optimizer='adam',\n                  metrics=['accuracy'])\n\n    return model"
      ]
    },
    {
      "cell_type": "markdown",
      "metadata": {},
      "source": [
        "Setup\n#############################################\n\n"
      ]
    },
    {
      "cell_type": "code",
      "execution_count": null,
      "metadata": {
        "collapsed": false
      },
      "outputs": [],
      "source": [
        "# load the data\ndata = load_watch()\nX = data['X']\ny = data['y']\n\n# split the data\nX_train, X_test, y_train, y_test = train_test_split(X, y, test_size=0.25, random_state=42)\n\n# create a segment learning pipeline\npipe = Pype([('seg', Segment(width=100, step=100, order='C')),\n             ('crnn', KerasClassifier(build_fn=crnn_model, epochs=4, batch_size=256,\n                                      verbose=0, validation_split=0.2))])"
      ]
    },
    {
      "cell_type": "markdown",
      "metadata": {},
      "source": [
        "Accessing training history\n#############################################\n\n"
      ]
    },
    {
      "cell_type": "code",
      "execution_count": null,
      "metadata": {
        "collapsed": false
      },
      "outputs": [],
      "source": [
        "# this is a bit of a hack, because history object is returned by the\n# keras wrapper when fit is called\n# this approach won't work with a more complex estimator pipeline, in which case\n# a callable class with the desired properties should be made passed to build_fn\n\npipe.fit(X_train, y_train)\nhistory = pipe.history.history\nprint(DataFrame(history))\n\n# depends on version\nif 'accuracy' in history:\n    ac_train = history['accuracy']\n    ac_val = history['val_accuracy']\nelif 'acc' in history:\n    ac_train = history['acc']\n    ac_val = history['val_acc']\nelse:\n    raise ValueError(\"History object doesn't contain accuracy record\")\n\nepoch = np.arange(len(ac_train)) + 1"
      ]
    },
    {
      "cell_type": "markdown",
      "metadata": {},
      "source": [
        "Training Curves\n#############################################\n\n"
      ]
    },
    {
      "cell_type": "code",
      "execution_count": null,
      "metadata": {
        "collapsed": false
      },
      "outputs": [],
      "source": [
        "plt.plot(epoch, ac_train, 'o', label=\"train\")\nplt.plot(epoch, ac_val, '+', label=\"validation\")\nplt.xlabel(\"Epoch\")\nplt.ylabel(\"Accuracy\")\nplt.legend()\nplt.show()"
      ]
    }
  ],
  "metadata": {
    "kernelspec": {
      "display_name": "Python 3",
      "language": "python",
      "name": "python3"
    },
    "language_info": {
      "codemirror_mode": {
        "name": "ipython",
        "version": 3
      },
      "file_extension": ".py",
      "mimetype": "text/x-python",
      "name": "python",
      "nbconvert_exporter": "python",
      "pygments_lexer": "ipython3",
      "version": "3.6.9"
    }
  },
  "nbformat": 4,
  "nbformat_minor": 0
}