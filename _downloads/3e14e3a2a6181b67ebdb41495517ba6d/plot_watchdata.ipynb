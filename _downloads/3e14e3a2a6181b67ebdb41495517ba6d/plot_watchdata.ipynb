{
  "cells": [
    {
      "cell_type": "code",
      "execution_count": null,
      "metadata": {
        "collapsed": false
      },
      "outputs": [],
      "source": [
        "%matplotlib inline"
      ]
    },
    {
      "cell_type": "markdown",
      "metadata": {},
      "source": [
        "\n# Working with Time Series Data\n\n\nThis example shows how to load the included smartwatch inertial sensor dataset, and create time series data objects compatible with the `seglearn` pipeline.\n\n\n"
      ]
    },
    {
      "cell_type": "code",
      "execution_count": null,
      "metadata": {
        "collapsed": false
      },
      "outputs": [],
      "source": [
        "# Author: David Burns\n# License: BSD\n\nimport matplotlib.pyplot as plt\nimport numpy as np\nimport pandas as pd\n\nfrom seglearn.base import TS_Data\nfrom seglearn.datasets import load_watch\nfrom seglearn.util import check_ts_data, ts_stats\n\ndata = load_watch()\n\ny = data['y']\nXt = data['X']\nfs = 50  # sampling frequency\n\n# create time series data object with no contextual variables\n\ncheck_ts_data(Xt)\n\n# create time series data object with 2 contextual variables\nXs = np.column_stack([data['side'], data['subject']])\nX = TS_Data(Xt, Xs)\ncheck_ts_data(X)\n\n# recover time series and contextual variables\nXt = X.ts_data\nXs = X.context_data\n\n# generate some statistics from the time series data\nresults = ts_stats(X, y, fs=fs, class_labels=data['y_labels'])\nprint(\"DATA STATS - AGGREGATED\")\nprint(results['total'])\nprint(\"\")\nprint(\"DATA STATS - BY CLASS\")\nprint(pd.DataFrame(results['by_class']))\n\n# plot an instance from the data set\n# this plot shows 6-axis inertial sensor data recorded by someone doing shoulder pendulum exercise\nXt0 = Xt[0]\nf, axes = plt.subplots(nrows=1, ncols=2)\nt = np.arange(len(Xt0)) / fs\naxes[0].plot(t, Xt0[:, 0], 'r-')\naxes[0].plot(t, Xt0[:, 1], 'g-')\naxes[0].plot(t, Xt0[:, 2], 'b-')\naxes[0].set_xlabel('time [s]')\naxes[0].set_ylabel('Acceleration [G]')\naxes[0].legend(data['X_labels'][0:3])\n\naxes[1].plot(t, Xt0[:, 3], 'r-')\naxes[1].plot(t, Xt0[:, 4], 'g-')\naxes[1].plot(t, Xt0[:, 5], 'b-')\naxes[1].set_xlabel('time [s]')\naxes[1].set_ylabel('Rotational Velocity [rad/s]')\naxes[1].legend(data['X_labels'][3:6])\n\nplt.tight_layout()\nplt.show()"
      ]
    }
  ],
  "metadata": {
    "kernelspec": {
      "display_name": "Python 3",
      "language": "python",
      "name": "python3"
    },
    "language_info": {
      "codemirror_mode": {
        "name": "ipython",
        "version": 3
      },
      "file_extension": ".py",
      "mimetype": "text/x-python",
      "name": "python",
      "nbconvert_exporter": "python",
      "pygments_lexer": "ipython3",
      "version": "3.6.9"
    }
  },
  "nbformat": 4,
  "nbformat_minor": 0
}