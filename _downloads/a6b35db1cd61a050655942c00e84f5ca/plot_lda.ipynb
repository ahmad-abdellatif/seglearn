{
  "cells": [
    {
      "cell_type": "code",
      "execution_count": null,
      "metadata": {
        "collapsed": false
      },
      "outputs": [],
      "source": [
        "%matplotlib inline"
      ]
    },
    {
      "cell_type": "markdown",
      "metadata": {},
      "source": [
        "\n# Linear Discriminant Analysis\n\n\nThis example demonstrates how the pipeline can be used to perform transformation of time series data, such as linear discriminant analysis for visualization purposes\n\n"
      ]
    },
    {
      "cell_type": "code",
      "execution_count": null,
      "metadata": {
        "collapsed": false
      },
      "outputs": [],
      "source": [
        "# Author: David Burns\n# License: BSD\n\nimport matplotlib.pyplot as plt\nimport numpy as np\nfrom sklearn.discriminant_analysis import LinearDiscriminantAnalysis\n\nimport seglearn as sgl\n\n\ndef plot_embedding(emb, y, y_labels):\n    # plot a 2D feature map embedding\n    x_min, x_max = np.min(emb, 0), np.max(emb, 0)\n    emb = (emb - x_min) / (x_max - x_min)\n\n    NC = len(y_labels)\n    markers = ['.', '+', 'x', '|', '_', '*', 'o']\n\n    fig = plt.figure()\n    fig.set_size_inches(6, 6)\n\n    for c in range(NC):\n        i = y == c\n        plt.scatter(emb[i, 0], emb[i, 1], marker=markers[c], label=y_labels[c])\n\n    plt.xticks([]), plt.yticks([])\n    plt.legend()\n    plt.tight_layout()\n\n\n# load the data\ndata = sgl.load_watch()\nX = data['X']\ny = data['y']\n\n# create a pipeline for LDA transformation of the feature representation\nclf = sgl.Pype([('segment', sgl.Segment()),\n                ('ftr', sgl.FeatureRep()),\n                ('lda', LinearDiscriminantAnalysis(n_components=2))])\n\nX2, y2 = clf.fit_transform(X, y)\nplot_embedding(X2, y2.astype(int), data['y_labels'])\nplt.show()"
      ]
    }
  ],
  "metadata": {
    "kernelspec": {
      "display_name": "Python 3",
      "language": "python",
      "name": "python3"
    },
    "language_info": {
      "codemirror_mode": {
        "name": "ipython",
        "version": 3
      },
      "file_extension": ".py",
      "mimetype": "text/x-python",
      "name": "python",
      "nbconvert_exporter": "python",
      "pygments_lexer": "ipython3",
      "version": "3.6.9"
    }
  },
  "nbformat": 4,
  "nbformat_minor": 0
}