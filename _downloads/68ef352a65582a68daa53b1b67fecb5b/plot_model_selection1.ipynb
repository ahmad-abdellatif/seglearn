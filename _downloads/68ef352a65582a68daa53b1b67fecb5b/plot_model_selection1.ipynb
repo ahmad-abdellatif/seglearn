{
  "cells": [
    {
      "cell_type": "code",
      "execution_count": null,
      "metadata": {
        "collapsed": false
      },
      "outputs": [],
      "source": [
        "%matplotlib inline"
      ]
    },
    {
      "cell_type": "markdown",
      "metadata": {},
      "source": [
        "\n# Hyperparameter Selection 1\n\n\nThis example demonstrates how to do model selection in a feature representation pipeline using a grid search\n\n"
      ]
    },
    {
      "cell_type": "code",
      "execution_count": null,
      "metadata": {
        "collapsed": false
      },
      "outputs": [],
      "source": [
        "# Author: David Burns\n# License: BSD\n\nimport matplotlib.pyplot as plt\nimport numpy as np\nfrom sklearn.ensemble import RandomForestClassifier\nfrom sklearn.model_selection import GridSearchCV, GroupKFold\nfrom sklearn.preprocessing import StandardScaler\n\nimport seglearn as sgl\n\n\ndef plot_grid_search(cv_results, grid_param_1, grid_param_2, name_param_1, name_param_2):\n    # plotting grid results from David Alvarez on Stack Overflow\n\n    # Get Test Scores Mean and std for each grid search\n    scores_mean = cv_results['mean_test_score']\n    scores_mean = np.array(scores_mean).reshape(len(grid_param_2), len(grid_param_1))\n    scores_sd = cv_results['std_test_score']\n    scores_sd = np.array(scores_sd).reshape(len(grid_param_2), len(grid_param_1))\n\n    # Plot Grid search scores\n    _, ax = plt.subplots(1, 1)\n\n    # Param1 is the X-axis, Param 2 is represented as a different curve (color line)\n    for idx, val in enumerate(grid_param_2):\n        ax.plot(grid_param_1, scores_mean[idx, :], '-o', label=name_param_2 + ': ' + str(val))\n\n    ax.set_title(\"Grid Search Scores\", fontsize=20, fontweight='bold')\n    ax.set_xlabel(name_param_1, fontsize=16)\n    ax.set_ylabel('CV Average Score', fontsize=16)\n    ax.legend(loc=\"best\", fontsize=15)\n    ax.grid(True)\n\n\n# load the data\ndata = sgl.load_watch()\nX = data['X']\ny = data['y']\ng = data['subject']\n\n# use subject id to group folds\nsplitter = GroupKFold(n_splits=3)\ncv = splitter.split(X, y, groups=g)\n\n# create a feature representation pipeline\npipe = sgl.Pype([('seg', sgl.Segment()),\n                 ('features', sgl.FeatureRep()),\n                 ('scaler', StandardScaler()),\n                 ('rf', RandomForestClassifier())])\n\n# create a parameter dictionary using the sklearn API\n# note that if you want to set a parameter to a single value, it will still need to be as a list\n\npar_grid = {'seg__width': [50, 100, 200],\n            'seg__overlap': [0., 0.5],\n            'rf__n_estimators': [20]}\n\nclf = GridSearchCV(pipe, par_grid, cv=cv)\nclf.fit(X, y)\n\nplot_grid_search(clf.cv_results_, par_grid['seg__width'],\n                 par_grid['seg__overlap'], 'width', 'overlap')\nplt.show()"
      ]
    }
  ],
  "metadata": {
    "kernelspec": {
      "display_name": "Python 3",
      "language": "python",
      "name": "python3"
    },
    "language_info": {
      "codemirror_mode": {
        "name": "ipython",
        "version": 3
      },
      "file_extension": ".py",
      "mimetype": "text/x-python",
      "name": "python",
      "nbconvert_exporter": "python",
      "pygments_lexer": "ipython3",
      "version": "3.6.9"
    }
  },
  "nbformat": 4,
  "nbformat_minor": 0
}