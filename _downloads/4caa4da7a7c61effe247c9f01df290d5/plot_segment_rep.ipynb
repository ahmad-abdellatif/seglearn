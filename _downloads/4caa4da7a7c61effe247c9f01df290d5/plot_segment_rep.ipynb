{
  "cells": [
    {
      "cell_type": "code",
      "execution_count": null,
      "metadata": {
        "collapsed": false
      },
      "outputs": [],
      "source": [
        "%matplotlib inline"
      ]
    },
    {
      "cell_type": "markdown",
      "metadata": {},
      "source": [
        "\n# Classifying Segments Directly with a Neural Network\n\n\nThis is a basic example using a convolutional recurrent neural network to learn segments directly from time series data\n\n\n"
      ]
    },
    {
      "cell_type": "code",
      "execution_count": null,
      "metadata": {
        "collapsed": false
      },
      "outputs": [],
      "source": [
        "# Author: David Burns\n# License: BSD\n\nimport matplotlib.image as mpimg\nimport matplotlib.pyplot as plt\nfrom tensorflow.python.keras.layers import Dense, LSTM, Conv1D\nfrom tensorflow.python.keras.models import Sequential\nfrom tensorflow.python.keras.wrappers.scikit_learn import KerasClassifier\nfrom sklearn.model_selection import train_test_split\n\nfrom seglearn.datasets import load_watch\nfrom seglearn.pipe import Pype\nfrom seglearn.transform import Segment\n\n\ndef crnn_model(width=100, n_vars=6, n_classes=7, conv_kernel_size=5,\n               conv_filters=3, lstm_units=3):\n    input_shape = (width, n_vars)\n    model = Sequential()\n    model.add(Conv1D(filters=conv_filters, kernel_size=conv_kernel_size,\n                     padding='valid', activation='relu', input_shape=input_shape))\n    model.add(Conv1D(filters=conv_filters, kernel_size=conv_kernel_size,\n                     padding='valid', activation='relu'))\n    model.add(LSTM(units=lstm_units, dropout=0.1, recurrent_dropout=0.1))\n    model.add(Dense(n_classes, activation=\"softmax\"))\n\n    model.compile(loss='categorical_crossentropy', optimizer='adam',\n                  metrics=['accuracy'])\n\n    return model\n\n\n# load the data\ndata = load_watch()\nX = data['X']\ny = data['y']\n\n# create a segment learning pipeline\npipe = Pype([('seg', Segment(width=100, step=100, order='C')),\n             ('crnn', KerasClassifier(build_fn=crnn_model, epochs=1, batch_size=256, verbose=0))])\n\n# split the data\nX_train, X_test, y_train, y_test = train_test_split(X, y, test_size=0.25, random_state=42)\n\n\npipe.fit(X_train, y_train)\nscore = pipe.score(X_test, y_test)\n\nprint(\"N series in train: \", len(X_train))\nprint(\"N series in test: \", len(X_test))\nprint(\"N segments in train: \", pipe.N_train)\nprint(\"N segments in test: \", pipe.N_test)\nprint(\"Accuracy score: \", score)\n\nimg = mpimg.imread('segments.jpg')\nplt.imshow(img)"
      ]
    }
  ],
  "metadata": {
    "kernelspec": {
      "display_name": "Python 3",
      "language": "python",
      "name": "python3"
    },
    "language_info": {
      "codemirror_mode": {
        "name": "ipython",
        "version": 3
      },
      "file_extension": ".py",
      "mimetype": "text/x-python",
      "name": "python",
      "nbconvert_exporter": "python",
      "pygments_lexer": "ipython3",
      "version": "3.6.9"
    }
  },
  "nbformat": 4,
  "nbformat_minor": 0
}